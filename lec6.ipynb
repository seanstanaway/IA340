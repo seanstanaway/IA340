{
 "cells": [
  {
   "cell_type": "code",
   "execution_count": 1,
   "id": "8fb92906",
   "metadata": {},
   "outputs": [],
   "source": [
    "url = 'http://ia340-demo-wei.s3-website-us-east-1.amazonaws.com/'"
   ]
  },
  {
   "cell_type": "code",
   "execution_count": 3,
   "id": "04dceaa0",
   "metadata": {},
   "outputs": [
    {
     "name": "stdout",
     "output_type": "stream",
     "text": [
      "<!doctype html>\r\n",
      "<html>\r\n",
      "\r\n",
      "\t<head>\r\n",
      "\t\t<title> IA340</title>\r\n",
      "\t\t<style>\r\n",
      "\t\t\tdiv.type1{\r\n",
      "\t\t\tbackground-color:green\r\n",
      "\t\t\t}\r\n",
      "\t\t\r\n",
      "\t\t</style>\r\n",
      "\t\t\r\n",
      "\t</head>\r\n",
      "\t\r\n",
      "\t\r\n",
      "\t<body>\r\n",
      "\t\r\n",
      "\t<h1>data mining</h1>\r\n",
      "\t<img src = \"https://raw.githubusercontent.com/xbwei/Data-Mining-on-Social-Media/master/Other/logo_ia340.png\">\r\n",
      "\t<p> instructor:Xuebin Wei</p>\r\n",
      "\t<p>website:<a href=\"https://www.lbsocial.net\">LbSocial</a></p>\r\n",
      "\t\r\n",
      "\t<div class = \"type1\">\r\n",
      "\t<h2> goals</h2>\r\n",
      "\t<ul>\r\n",
      "\t\t<li>SQL</li>\r\n",
      "\t\t<li>HTML</li>\r\n",
      "\t\r\n",
      "\t</ul>\r\n",
      "\t\r\n",
      "\t</div>\r\n",
      "\t\r\n",
      "\t<div>\r\n",
      "\t\t<table>\r\n",
      "\t\t\t<tr>  <th>date</th>  <th>topic</th>     </tr>\r\n",
      "\t\t\t<tr>  <td>week1</td>  <td>sql</td>     </tr>\r\n",
      "\t\t\t<tr>  <td>week2</td>  <td>html</td>     </tr>\r\n",
      "\t\t\t<tr>  <td>week3</td>  <td>mongodb</td>     </tr>\r\n",
      "\t\t</table>\r\n",
      "\t</div>\r\n",
      "\t</body>\r\n",
      "\r\n",
      "</html>\n"
     ]
    }
   ],
   "source": [
    "import urllib.request\n",
    "\n",
    "response = urllib.request.urlopen(url)\n",
    "\n",
    "html_data = response.read()\n",
    "\n",
    "print(html_data.decode('utf-8'))"
   ]
  },
  {
   "cell_type": "code",
   "execution_count": 4,
   "id": "915064ce",
   "metadata": {},
   "outputs": [
    {
     "name": "stdout",
     "output_type": "stream",
     "text": [
      "Looking in indexes: https://pypi.org/simple, https://pip.repos.neuron.amazonaws.com\n",
      "Requirement already satisfied: beautifulsoup4 in /home/ec2-user/anaconda3/envs/python3/lib/python3.8/site-packages (4.10.0)\n",
      "Requirement already satisfied: soupsieve>1.2 in /home/ec2-user/anaconda3/envs/python3/lib/python3.8/site-packages (from beautifulsoup4) (2.3)\n",
      "\u001b[33mWARNING: You are using pip version 22.0.4; however, version 22.3 is available.\n",
      "You should consider upgrading via the '/home/ec2-user/anaconda3/envs/python3/bin/python -m pip install --upgrade pip' command.\u001b[0m\u001b[33m\n",
      "\u001b[0m"
     ]
    }
   ],
   "source": [
    "!pip install beautifulsoup4"
   ]
  },
  {
   "cell_type": "code",
   "execution_count": 5,
   "id": "a7c14bad",
   "metadata": {},
   "outputs": [],
   "source": [
    "from bs4 import BeautifulSoup"
   ]
  },
  {
   "cell_type": "code",
   "execution_count": 6,
   "id": "4c4243ff",
   "metadata": {},
   "outputs": [
    {
     "name": "stdout",
     "output_type": "stream",
     "text": [
      "<!DOCTYPE html>\n",
      "\n",
      "<html>\n",
      "<head>\n",
      "<title> IA340</title>\n",
      "<style>\r\n",
      "\t\t\tdiv.type1{\r\n",
      "\t\t\tbackground-color:green\r\n",
      "\t\t\t}\r\n",
      "\t\t\r\n",
      "\t\t</style>\n",
      "</head>\n",
      "<body>\n",
      "<h1>data mining</h1>\n",
      "<img src=\"https://raw.githubusercontent.com/xbwei/Data-Mining-on-Social-Media/master/Other/logo_ia340.png\"/>\n",
      "<p> instructor:Xuebin Wei</p>\n",
      "<p>website:<a href=\"https://www.lbsocial.net\">LbSocial</a></p>\n",
      "<div class=\"type1\">\n",
      "<h2> goals</h2>\n",
      "<ul>\n",
      "<li>SQL</li>\n",
      "<li>HTML</li>\n",
      "</ul>\n",
      "</div>\n",
      "<div>\n",
      "<table>\n",
      "<tr> <th>date</th> <th>topic</th> </tr>\n",
      "<tr> <td>week1</td> <td>sql</td> </tr>\n",
      "<tr> <td>week2</td> <td>html</td> </tr>\n",
      "<tr> <td>week3</td> <td>mongodb</td> </tr>\n",
      "</table>\n",
      "</div>\n",
      "</body>\n",
      "</html>\n"
     ]
    }
   ],
   "source": [
    "soup = BeautifulSoup(html_data,'html.parser')\n",
    "print(soup)"
   ]
  },
  {
   "cell_type": "code",
   "execution_count": 9,
   "id": "c582ef18",
   "metadata": {},
   "outputs": [
    {
     "name": "stdout",
     "output_type": "stream",
     "text": [
      "<div class=\"type1\">\n",
      "<h2> goals</h2>\n",
      "<ul>\n",
      "<li>SQL</li>\n",
      "<li>HTML</li>\n",
      "</ul>\n",
      "</div>\n",
      "<div>\n",
      "<table>\n",
      "<tr> <th>date</th> <th>topic</th> </tr>\n",
      "<tr> <td>week1</td> <td>sql</td> </tr>\n",
      "<tr> <td>week2</td> <td>html</td> </tr>\n",
      "<tr> <td>week3</td> <td>mongodb</td> </tr>\n",
      "</table>\n",
      "</div>\n"
     ]
    }
   ],
   "source": [
    "for div in soup.find_all('div'):\n",
    "    print(div)"
   ]
  },
  {
   "cell_type": "code",
   "execution_count": 12,
   "id": "e8ab1f6c",
   "metadata": {},
   "outputs": [
    {
     "name": "stdout",
     "output_type": "stream",
     "text": [
      "<h2> goals</h2>\n"
     ]
    }
   ],
   "source": [
    "for h2 in soup.find_all('h2'):\n",
    "    print(h2)"
   ]
  },
  {
   "cell_type": "code",
   "execution_count": 25,
   "id": "625f6ed9",
   "metadata": {},
   "outputs": [
    {
     "name": "stdout",
     "output_type": "stream",
     "text": [
      "<li>SQL</li>\n",
      "<li>HTML</li>\n"
     ]
    }
   ],
   "source": [
    "for div in soup.find_all('div', class_ ='type1'):\n",
    "    for li in div.find_all('li'):\n",
    "        print(li)"
   ]
  },
  {
   "cell_type": "code",
   "execution_count": 33,
   "id": "a85d1868",
   "metadata": {},
   "outputs": [
    {
     "name": "stdout",
     "output_type": "stream",
     "text": [
      "Xuebin Wei\n"
     ]
    }
   ],
   "source": [
    "for p in soup.find_all('p'):\n",
    "    if 'instructor' in p.text:\n",
    "        print(p.text.split(':')[1])"
   ]
  },
  {
   "cell_type": "code",
   "execution_count": 35,
   "id": "15943383",
   "metadata": {},
   "outputs": [
    {
     "name": "stdout",
     "output_type": "stream",
     "text": [
      "https://www.lbsocial.net\n"
     ]
    }
   ],
   "source": [
    "for p in soup.find_all('p'):\n",
    "    for a in p.find_all('a'):\n",
    "        print(a.get('href'))"
   ]
  },
  {
   "cell_type": "code",
   "execution_count": 38,
   "id": "ce5419c2",
   "metadata": {},
   "outputs": [],
   "source": [
    "url = 'https://www.jmu.edu'"
   ]
  },
  {
   "cell_type": "code",
   "execution_count": 40,
   "id": "f9097148",
   "metadata": {},
   "outputs": [],
   "source": [
    "response = urllib.request.urlopen(url)\n",
    "\n",
    "html_data = response.read()"
   ]
  },
  {
   "cell_type": "code",
   "execution_count": 41,
   "id": "024bcc2a",
   "metadata": {},
   "outputs": [],
   "source": [
    "soup = BeautifulSoup(html_data,'html.parser')"
   ]
  },
  {
   "cell_type": "code",
   "execution_count": 42,
   "id": "d6f51e89",
   "metadata": {},
   "outputs": [
    {
     "name": "stdout",
     "output_type": "stream",
     "text": [
      "Simple precautions can prevent cyber heartache, expert says\n",
      "Safety updates, Oct. 16, 2022\n",
      "National sports media reacts to JMU Football’s historic ranking\n",
      "Forbes Center Announces 2022–2023 Masterpiece Season\n",
      "Dr. Earlynn J. Miller Named 2022 Circle of Excellence in the Arts Award Winner by Forbes Center, Arts Council of the Valley, and JMU’s College of Visual and Performing Arts\n",
      "‘IN/ovation: Student Celebration’ Raises $135,000 for Arts Scholarships\n"
     ]
    }
   ],
   "source": [
    "for span in soup.find_all('span',class_ ='articlelink'):\n",
    "    print(span.text)"
   ]
  },
  {
   "cell_type": "code",
   "execution_count": null,
   "id": "8bd6c647",
   "metadata": {},
   "outputs": [],
   "source": []
  }
 ],
 "metadata": {
  "kernelspec": {
   "display_name": "conda_python3",
   "language": "python",
   "name": "conda_python3"
  },
  "language_info": {
   "codemirror_mode": {
    "name": "ipython",
    "version": 3
   },
   "file_extension": ".py",
   "mimetype": "text/x-python",
   "name": "python",
   "nbconvert_exporter": "python",
   "pygments_lexer": "ipython3",
   "version": "3.8.12"
  }
 },
 "nbformat": 4,
 "nbformat_minor": 5
}
